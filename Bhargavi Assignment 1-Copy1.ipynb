{
 "cells": [
  {
   "cell_type": "code",
   "execution_count": 7,
   "id": "bcd8175b",
   "metadata": {},
   "outputs": [
    {
     "name": "stdout",
     "output_type": "stream",
     "text": [
      " minimum age = \n",
      "19\n",
      "maximum age = \n",
      "26\n"
     ]
    }
   ],
   "source": [
    "#  1.1 Sort the ages list and find the min and max age\n",
    "ages = [19, 22, 19, 24, 20, 25, 26, 24, 25, 24]\n",
    "ages.sort() #Sorting the ages list\n",
    "min_of_ages = min(ages) #minimum of ages list\n",
    "max_of_ages = max(ages) #maximum of ages list\n",
    "print( \" minimum age = \", min_of_ages  , \"maximum age = \", max_of_ages ,sep=\"\\n\")\n"
   ]
  },
  {
   "cell_type": "code",
   "execution_count": 11,
   "id": "4ef35d7f",
   "metadata": {},
   "outputs": [
    {
     "name": "stdout",
     "output_type": "stream",
     "text": [
      " minimum age =  19\n",
      " maximum age =  26\n",
      " ages =  [19, 19, 20, 22, 24, 24, 24, 25, 25, 26]\n"
     ]
    }
   ],
   "source": [
    "print ( \" minimum age = \" , ages[0] ) #since the ages is sorted 10 element list ,minimum woould be the first element \n",
    "print ( \" maximum age = \" , ages[9] ) #and maximum would be last element (just verifying)\n",
    "print ( \" ages = \", ages )"
   ]
  },
  {
   "cell_type": "code",
   "execution_count": 12,
   "id": "e84447e6",
   "metadata": {},
   "outputs": [
    {
     "name": "stdout",
     "output_type": "stream",
     "text": [
      "ages =  [19, 19, 20, 22, 24, 24, 24, 25, 25, 26, 19, 26]\n"
     ]
    }
   ],
   "source": [
    "#1.2 Add the min age and the max age again to the list\n",
    "ages.append(min_of_ages)\n",
    "ages.append(max_of_ages)\n",
    "print ( \"ages = \", ages)"
   ]
  },
  {
   "cell_type": "code",
   "execution_count": 33,
   "id": "5fbccc5c",
   "metadata": {},
   "outputs": [
    {
     "name": "stdout",
     "output_type": "stream",
     "text": [
      "median of ages =  24.0\n"
     ]
    }
   ],
   "source": [
    "#1.3 Find the median age (one middle item or two middle items divided by two)\n",
    "mid = len(ages) // 2\n",
    "median_age = (ages[mid] + ages[~mid]) / 2\n",
    "print( \"median of ages = \" , median_age )"
   ]
  },
  {
   "cell_type": "code",
   "execution_count": 38,
   "id": "cfafe426",
   "metadata": {},
   "outputs": [
    {
     "name": "stdout",
     "output_type": "stream",
     "text": [
      " average age =  22.75\n"
     ]
    }
   ],
   "source": [
    "#1.4 Find the average age (sum of all items divided by their number)\n",
    "add = 0  #initializing the add variable\n",
    "length = len(ages)\n",
    "for age in ages:  #fetches each element from the ages list and runs till the last element\n",
    "    add = add + age  #adding all the list elements\n",
    "print( \" average age = \" , add / length)"
   ]
  },
  {
   "cell_type": "code",
   "execution_count": 39,
   "id": "302dfea5",
   "metadata": {},
   "outputs": [
    {
     "name": "stdout",
     "output_type": "stream",
     "text": [
      "range of ages =  7\n"
     ]
    }
   ],
   "source": [
    "#1.5 Find the range of the ages (max minus min)\n",
    "range_of_ages = max(ages) - min(ages)\n",
    "print( \"range of ages = \" ,range_of_ages)"
   ]
  },
  {
   "cell_type": "code",
   "execution_count": 41,
   "id": "620f507e",
   "metadata": {},
   "outputs": [
    {
     "name": "stdout",
     "output_type": "stream",
     "text": [
      " dog =  {}\n"
     ]
    }
   ],
   "source": [
    "#2.1 Create an empty dictionary called dog\n",
    "dog = {}\n",
    "print ( \" dog = \",dog)"
   ]
  },
  {
   "cell_type": "code",
   "execution_count": 43,
   "id": "d0d7b51a",
   "metadata": {},
   "outputs": [
    {
     "name": "stdout",
     "output_type": "stream",
     "text": [
      " dog =  {'name': 'Tannie', 'color': 'Black and Tan', 'breed': 'Pomeranian', 'legs': 4, 'age': 2}\n"
     ]
    }
   ],
   "source": [
    "#2.2 Add name, color, breed, legs, age to the dog dictionary\n",
    "dog['name'] = \"Tannie\"\n",
    "dog['color'] = \"Black and Tan\"\n",
    "dog['breed'] = \"Pomeranian\"\n",
    "dog['legs'] = 4\n",
    "dog['age'] = 2\n",
    "print (\" dog = \",dog)"
   ]
  },
  {
   "cell_type": "code",
   "execution_count": 45,
   "id": "77bb71e9",
   "metadata": {},
   "outputs": [
    {
     "name": "stdout",
     "output_type": "stream",
     "text": [
      " student =  {'first_name': 'Bhargavi', 'last_name': 'Chukkapalli', 'gender': 'Female', 'age': 24, 'marital status': 'Single', 'skills': ['SAP ABAP', 'Python', 'Java'], 'country': 'India', 'city': 'Hyderabad', 'address': {'door no.': '8-4-315/9', 'street': 'Prem nagar', 'Pincode': '500018'}}\n"
     ]
    }
   ],
   "source": [
    "#2.3 Create a student dictionary and add first_name, last_name, gender, age, marital status,\n",
    "#skills, country, city and address as keys for the dictionary\n",
    "student = {\n",
    "    'first_name':'Bhargavi',\n",
    "    'last_name':'Chukkapalli',\n",
    "    'gender':'Female',\n",
    "    'age':24,\n",
    "    'marital status':'Single',\n",
    "    'skills': ['SAP ABAP','Python','Java'], #person can have multiple skills and can learn a new skill ,so considered list since list's are mutable\n",
    "    'country':'India',\n",
    "    'city':'Hyderabad',\n",
    "    'address':{\n",
    "        'door no.':'8-4-315/9',\n",
    "        'street':'Prem nagar',\n",
    "        'Pincode':'500018'\n",
    "    }\n",
    "}\n",
    "print(\" student = \",student)"
   ]
  },
  {
   "cell_type": "code",
   "execution_count": 46,
   "id": "ae348082",
   "metadata": {},
   "outputs": [
    {
     "name": "stdout",
     "output_type": "stream",
     "text": [
      " length of student =  9\n"
     ]
    }
   ],
   "source": [
    "#2.4 Get the length of the student dictionary\n",
    "student_length = len(student)\n",
    "print( \" length of student = \",student_length)"
   ]
  },
  {
   "cell_type": "code",
   "execution_count": 48,
   "id": "e6b5ebf7",
   "metadata": {},
   "outputs": [
    {
     "name": "stdout",
     "output_type": "stream",
     "text": [
      " value of skills =  ['SAP ABAP', 'Python', 'Java']\n",
      " data type of skills =  <class 'list'>\n"
     ]
    }
   ],
   "source": [
    "#2.5 Get the value of skills and check the data type, it should be a list\n",
    "student_skills = student['skills']\n",
    "type_skills = type(student_skills)\n",
    "print(\" value of skills = \",student_skills)\n",
    "print(\" data type of skills = \",type_skills)"
   ]
  },
  {
   "cell_type": "code",
   "execution_count": 49,
   "id": "7f2d8d33",
   "metadata": {},
   "outputs": [
    {
     "name": "stdout",
     "output_type": "stream",
     "text": [
      " Student skills =  ['SAP ABAP', 'Python', 'Java', 'MySQL']\n"
     ]
    }
   ],
   "source": [
    "#2.6 Modify the skills values by adding one or two skills\n",
    "student['skills'].append('MySQL') #adding a element to student skills\n",
    "print(\" Student skills = \",student['skills'])"
   ]
  },
  {
   "cell_type": "code",
   "execution_count": 51,
   "id": "7197fda6",
   "metadata": {},
   "outputs": [
    {
     "name": "stdout",
     "output_type": "stream",
     "text": [
      " keys =  dict_keys(['first_name', 'last_name', 'gender', 'age', 'marital status', 'skills', 'country', 'city', 'address'])\n"
     ]
    }
   ],
   "source": [
    "#2.7 Get the dictionary keys as a list\n",
    "print( \" keys = \" , student.keys())"
   ]
  },
  {
   "cell_type": "code",
   "execution_count": 52,
   "id": "c18d472d",
   "metadata": {},
   "outputs": [
    {
     "name": "stdout",
     "output_type": "stream",
     "text": [
      "values =  dict_values(['Bhargavi', 'Chukkapalli', 'Female', 24, 'Single', ['SAP ABAP', 'Python', 'Java', 'MySQL'], 'India', 'Hyderabad', {'door no.': '8-4-315/9', 'street': 'Prem nagar', 'Pincode': '500018'}])\n"
     ]
    }
   ],
   "source": [
    "#2.8 Get the dictionary values as a list\n",
    "print( \"values = \", student.values())"
   ]
  },
  {
   "cell_type": "code",
   "execution_count": 53,
   "id": "1b6c3a2b",
   "metadata": {},
   "outputs": [
    {
     "name": "stdout",
     "output_type": "stream",
     "text": [
      "sisters =  ('Harini', 'Haritha')\n",
      "brothers =  ('Dhruva', 'Karthik')\n"
     ]
    }
   ],
   "source": [
    "#3.1 Create a tuple containing names of your sisters and your brothers (imaginary siblings are fine)\n",
    "sisters = ('Harini','Haritha')\n",
    "brothers = ('Dhruva','Karthik')\n",
    "print( \"sisters = \" ,sisters)\n",
    "print( \"brothers = \",brothers)\n"
   ]
  },
  {
   "cell_type": "code",
   "execution_count": 54,
   "id": "5805141f",
   "metadata": {},
   "outputs": [
    {
     "name": "stdout",
     "output_type": "stream",
     "text": [
      "siblings =  ('Harini', 'Haritha', 'Dhruva', 'Karthik')\n"
     ]
    }
   ],
   "source": [
    "#3.2 Join brothers and sisters tuples and assign it to siblings\n",
    "siblings = sisters + brothers\n",
    "print( \"siblings = \",siblings)"
   ]
  },
  {
   "cell_type": "code",
   "execution_count": 55,
   "id": "d2f96dcb",
   "metadata": {},
   "outputs": [
    {
     "name": "stdout",
     "output_type": "stream",
     "text": [
      "Total no. of siblings =  4\n"
     ]
    }
   ],
   "source": [
    "#3.3 How many siblings do you have?\n",
    "No_of_siblings = len(siblings)\n",
    "print(\"Total no. of siblings = \",No_of_siblings)"
   ]
  },
  {
   "cell_type": "code",
   "execution_count": 56,
   "id": "79db256d",
   "metadata": {},
   "outputs": [
    {
     "name": "stdout",
     "output_type": "stream",
     "text": [
      "Family members = ('Harini', 'Haritha', 'Dhruva', 'Karthik', 'Venkata Subbaiah', 'Usha Rani')\n"
     ]
    }
   ],
   "source": [
    "#3.4 Modify the siblings tuple and add the name of your father and mother and assign it to family members\n",
    "siblings = list(siblings) # tuple's are immutable so to modify the siblings tuple converting to list\n",
    "siblings.append(\"Venkata Subbaiah\")\n",
    "siblings.append(\"Usha Rani\")\n",
    "Family_members = tuple(siblings)\n",
    "print ( \"Family members =\", Family_members)"
   ]
  },
  {
   "cell_type": "code",
   "execution_count": 57,
   "id": "53a5b4cd",
   "metadata": {},
   "outputs": [],
   "source": [
    "#4\n",
    "it_companies = {'Facebook', 'Google', 'Microsoft', 'Apple', 'IBM', 'Oracle', 'Amazon'}\n",
    "A = {19, 22, 24, 20, 25, 26}\n",
    "B = {19, 22, 20, 25, 26, 24, 28, 27}\n",
    "age = [22, 19, 24, 25, 26, 24, 25, 24]"
   ]
  },
  {
   "cell_type": "code",
   "execution_count": 58,
   "id": "d17b6c4b",
   "metadata": {},
   "outputs": [
    {
     "name": "stdout",
     "output_type": "stream",
     "text": [
      "length =  7\n"
     ]
    }
   ],
   "source": [
    "#4.1 Find the length of the set it_companies\n",
    "print( \"length = \" ,len(it_companies))"
   ]
  },
  {
   "cell_type": "code",
   "execution_count": 59,
   "id": "74addd07",
   "metadata": {},
   "outputs": [
    {
     "name": "stdout",
     "output_type": "stream",
     "text": [
      "it_companies =  {'Amazon', 'Facebook', 'Microsoft', 'Google', 'twitter', 'IBM', 'Oracle', 'Apple'}\n"
     ]
    }
   ],
   "source": [
    "#4.2 Add 'Twitter' to it_companies\n",
    "it_companies.add('twitter')\n",
    "print( \"it_companies = \",it_companies)"
   ]
  },
  {
   "cell_type": "code",
   "execution_count": 60,
   "id": "cd84476d",
   "metadata": {},
   "outputs": [
    {
     "name": "stdout",
     "output_type": "stream",
     "text": [
      "it_companies =  {'Facebook', 'Google', 'twitter', 'IBM', 'Accenture', 'Oracle', 'Amazon', 'Microsoft', 'CVS', 'Cognizant', 'Apple'}\n"
     ]
    }
   ],
   "source": [
    "#4.3 Insert multiple IT companies at once to the set it_companies\n",
    "set1 = { 'Accenture','Cognizant','CVS'}\n",
    "it_companies.update(set1)\n",
    "print( \"it_companies = \",it_companies)"
   ]
  },
  {
   "cell_type": "code",
   "execution_count": 61,
   "id": "e826cd0a",
   "metadata": {},
   "outputs": [
    {
     "name": "stdout",
     "output_type": "stream",
     "text": [
      "it_companies =  {'Facebook', 'Google', 'twitter', 'IBM', 'Accenture', 'Oracle', 'Amazon', 'CVS', 'Cognizant', 'Apple'}\n"
     ]
    }
   ],
   "source": [
    "#4.4 Remove one of the companies from the set it_companies\n",
    "it_companies.remove('Microsoft')\n",
    "print( \"it_companies = \",it_companies)"
   ]
  },
  {
   "cell_type": "code",
   "execution_count": 62,
   "id": "3157e4f2",
   "metadata": {},
   "outputs": [
    {
     "name": "stdout",
     "output_type": "stream",
     "text": [
      "it_companies = {'Facebook', 'Google', 'twitter', 'IBM', 'Accenture', 'Oracle', 'Amazon', 'CVS', 'Cognizant', 'Apple'}\n"
     ]
    }
   ],
   "source": [
    "#4.5 What is the difference between remove and discard\n",
    "it_companies.discard('tcs')\n",
    "print( \"it_companies =\",it_companies)"
   ]
  },
  {
   "cell_type": "code",
   "execution_count": 63,
   "id": "8e41f931",
   "metadata": {},
   "outputs": [
    {
     "ename": "KeyError",
     "evalue": "'tcs'",
     "output_type": "error",
     "traceback": [
      "\u001b[1;31m---------------------------------------------------------------------------\u001b[0m",
      "\u001b[1;31mKeyError\u001b[0m                                  Traceback (most recent call last)",
      "\u001b[1;32m~\\AppData\\Local\\Temp\\ipykernel_19320\\1219135644.py\u001b[0m in \u001b[0;36m<module>\u001b[1;34m\u001b[0m\n\u001b[1;32m----> 1\u001b[1;33m \u001b[0mit_companies\u001b[0m\u001b[1;33m.\u001b[0m\u001b[0mremove\u001b[0m\u001b[1;33m(\u001b[0m\u001b[1;34m'tcs'\u001b[0m\u001b[1;33m)\u001b[0m\u001b[1;33m\u001b[0m\u001b[1;33m\u001b[0m\u001b[0m\n\u001b[0m\u001b[0;32m      2\u001b[0m \u001b[0mprint\u001b[0m\u001b[1;33m(\u001b[0m \u001b[1;34m\"it_companies =\"\u001b[0m\u001b[1;33m,\u001b[0m\u001b[0mit_companies\u001b[0m\u001b[1;33m)\u001b[0m\u001b[1;33m\u001b[0m\u001b[1;33m\u001b[0m\u001b[0m\n",
      "\u001b[1;31mKeyError\u001b[0m: 'tcs'"
     ]
    }
   ],
   "source": [
    "it_companies.remove('tcs')\n",
    "print( \"it_companies =\",it_companies)"
   ]
  },
  {
   "cell_type": "code",
   "execution_count": 64,
   "id": "8c5c3afd",
   "metadata": {},
   "outputs": [],
   "source": [
    "#discard() and remove() both removes the specified item from the set\n",
    "# if the specified item doesn't exist ,remove() will raise an error whereas discard doesn't "
   ]
  },
  {
   "cell_type": "code",
   "execution_count": 65,
   "id": "563c5d1b",
   "metadata": {},
   "outputs": [
    {
     "name": "stdout",
     "output_type": "stream",
     "text": [
      "A Union B =  {19, 20, 22, 24, 25, 26, 27, 28}\n"
     ]
    }
   ],
   "source": [
    "#4.6 Join A and B\n",
    "print( \"A Union B = \", A.union(B))"
   ]
  },
  {
   "cell_type": "code",
   "execution_count": 67,
   "id": "209f3990",
   "metadata": {},
   "outputs": [
    {
     "name": "stdout",
     "output_type": "stream",
     "text": [
      " A Intersection B =  {19, 20, 22, 24, 25, 26}\n"
     ]
    }
   ],
   "source": [
    "#4.7 Find A intersection B\n",
    "print(\" A Intersection B = \", A.intersection(B))"
   ]
  },
  {
   "cell_type": "code",
   "execution_count": 68,
   "id": "3b01d44b",
   "metadata": {},
   "outputs": [
    {
     "name": "stdout",
     "output_type": "stream",
     "text": [
      " Is A subset of B ? : True\n"
     ]
    }
   ],
   "source": [
    "#4.8 Is A subest of B\n",
    "print(\" Is A subset of B ? :\", A.issubset(B))"
   ]
  },
  {
   "cell_type": "code",
   "execution_count": 69,
   "id": "1ecf0c33",
   "metadata": {},
   "outputs": [
    {
     "name": "stdout",
     "output_type": "stream",
     "text": [
      " Is A and B disjoint ? : False\n"
     ]
    }
   ],
   "source": [
    "#4.9 Are A and B disjoint sets\n",
    "print(\" Is A and B disjoint ? :\", A.isdisjoint(B))"
   ]
  },
  {
   "cell_type": "code",
   "execution_count": 70,
   "id": "a24c6e31",
   "metadata": {},
   "outputs": [
    {
     "name": "stdout",
     "output_type": "stream",
     "text": [
      "join A with B: {19, 20, 22, 24, 25, 26, 27, 28}\n",
      "join B with A: {19, 20, 22, 24, 25, 26, 27, 28}\n"
     ]
    }
   ],
   "source": [
    "#4.10 Join A with B and B with A\n",
    "print(\"join A with B:\" , A.union(B))\n",
    "print(\"join B with A:\" ,B.union(A))"
   ]
  },
  {
   "cell_type": "code",
   "execution_count": 72,
   "id": "494472da",
   "metadata": {},
   "outputs": [
    {
     "name": "stdout",
     "output_type": "stream",
     "text": [
      " symmetric difference between A and B : {27, 28}\n"
     ]
    }
   ],
   "source": [
    "#4.11 What is the symmetric difference between A and B\n",
    "print(\" symmetric difference between A and B :\", A.symmetric_difference(B))\n"
   ]
  },
  {
   "cell_type": "code",
   "execution_count": 73,
   "id": "588ff569",
   "metadata": {},
   "outputs": [
    {
     "ename": "NameError",
     "evalue": "name 'A' is not defined",
     "output_type": "error",
     "traceback": [
      "\u001b[1;31m---------------------------------------------------------------------------\u001b[0m",
      "\u001b[1;31mNameError\u001b[0m                                 Traceback (most recent call last)",
      "\u001b[1;32m~\\AppData\\Local\\Temp\\ipykernel_19320\\526718037.py\u001b[0m in \u001b[0;36m<module>\u001b[1;34m\u001b[0m\n\u001b[0;32m      2\u001b[0m \u001b[1;32mdel\u001b[0m \u001b[0mA\u001b[0m\u001b[1;33m\u001b[0m\u001b[1;33m\u001b[0m\u001b[0m\n\u001b[0;32m      3\u001b[0m \u001b[1;32mdel\u001b[0m \u001b[0mB\u001b[0m\u001b[1;33m\u001b[0m\u001b[1;33m\u001b[0m\u001b[0m\n\u001b[1;32m----> 4\u001b[1;33m \u001b[0mprint\u001b[0m\u001b[1;33m(\u001b[0m \u001b[1;34m\"A =\"\u001b[0m\u001b[1;33m,\u001b[0m\u001b[0mA\u001b[0m\u001b[1;33m)\u001b[0m\u001b[1;33m\u001b[0m\u001b[1;33m\u001b[0m\u001b[0m\n\u001b[0m\u001b[0;32m      5\u001b[0m \u001b[0mprint\u001b[0m\u001b[1;33m(\u001b[0m\u001b[1;34m\"B =\"\u001b[0m\u001b[1;33m,\u001b[0m\u001b[0mB\u001b[0m\u001b[1;33m)\u001b[0m\u001b[1;33m\u001b[0m\u001b[1;33m\u001b[0m\u001b[0m\n",
      "\u001b[1;31mNameError\u001b[0m: name 'A' is not defined"
     ]
    }
   ],
   "source": [
    "#4.12 Delete the sets completely\n",
    "del A\n",
    "del B\n",
    "print( \"A =\",A)\n",
    "print(\"B =\",B)"
   ]
  },
  {
   "cell_type": "markdown",
   "id": "3c82273a",
   "metadata": {},
   "source": [
    "\n",
    "\n"
   ]
  },
  {
   "cell_type": "code",
   "execution_count": 74,
   "id": "eefac1b6",
   "metadata": {},
   "outputs": [
    {
     "name": "stdout",
     "output_type": "stream",
     "text": [
      "length of age list =  8\n",
      "length of age set =  5\n"
     ]
    }
   ],
   "source": [
    "#4.13 Convert the ages to a set and compare the length of the list and the set.\n",
    "len_of_list = len(age)\n",
    "age = set(age)\n",
    "len_of_set = len(age)\n",
    "print( \"length of age list = \",len_of_list)\n",
    "print( \"length of age set = \",len_of_set) #set will not have duplicates"
   ]
  },
  {
   "cell_type": "code",
   "execution_count": 75,
   "id": "955f9714",
   "metadata": {},
   "outputs": [],
   "source": [
    "#5 radius(r) of a circle is 30 meters.\n"
   ]
  },
  {
   "cell_type": "code",
   "execution_count": 99,
   "id": "a8b2a19e",
   "metadata": {},
   "outputs": [
    {
     "name": "stdout",
     "output_type": "stream",
     "text": [
      "Area of circle =  2827.4333882308138\n"
     ]
    }
   ],
   "source": [
    "#5.1 Calculate the area of a circle and assign the value to a variable name of _area_of_circle_\n",
    "import math\n",
    "r = 30\n",
    "pi = 3.141592653589793238\n",
    "_area_of_circle_ = math.pi*r**2\n",
    "print( \"Area of circle = \",_area_of_circle_)"
   ]
  },
  {
   "cell_type": "code",
   "execution_count": 101,
   "id": "0a90845e",
   "metadata": {},
   "outputs": [
    {
     "name": "stdout",
     "output_type": "stream",
     "text": [
      "circumference of circle = 188.49555921538757\n"
     ]
    }
   ],
   "source": [
    "#5.2 Calculate the circumference of a circle and assign the value to a variable name of _circum_of_circle_\n",
    "_circum_of_circle_ = 2*pi*r\n",
    "print(\"circumference of circle =\", _circum_of_circle_)"
   ]
  },
  {
   "cell_type": "code",
   "execution_count": 103,
   "id": "878b983e",
   "metadata": {},
   "outputs": [
    {
     "name": "stdout",
     "output_type": "stream",
     "text": [
      "4\n",
      "Area of circle =  50.26548245743669\n"
     ]
    }
   ],
   "source": [
    "#5.3 Take radius as user input and calculate the area\n",
    "r = float(input())\n",
    "_area_of_circle_ = math.pi*r**2\n",
    "print( \"Area of circle = \",_area_of_circle_)"
   ]
  },
  {
   "cell_type": "code",
   "execution_count": 104,
   "id": "0fa841ce",
   "metadata": {},
   "outputs": [
    {
     "name": "stdout",
     "output_type": "stream",
     "text": [
      "{'teacher', 'love', 'inspire', 'teach', 'I', 'to', 'am', 'and', 'a', 'people'}\n",
      " no. of unique words used : 10\n"
     ]
    }
   ],
   "source": [
    "#6\n",
    "String = \"I am a teacher and I love to inspire and teach people\"\n",
    "set1 = set(String.split()) #set doesn't contain duplicates\n",
    "print(set1)\n",
    "print( \" no. of unique words used :\", len(set1))"
   ]
  },
  {
   "cell_type": "code",
   "execution_count": 105,
   "id": "1bb88112",
   "metadata": {},
   "outputs": [
    {
     "name": "stdout",
     "output_type": "stream",
     "text": [
      "Name\t\tAge\tCountry\tCity\n",
      "Asabench\t250\tFinland\tHelsinki\n"
     ]
    }
   ],
   "source": [
    "#7 Use a tab escape sequence\n",
    "print(\"Name\\t\\tAge\\tCountry\\tCity\\nAsabench\\t250\\tFinland\\tHelsinki\")"
   ]
  },
  {
   "cell_type": "code",
   "execution_count": 106,
   "id": "4cc38b5a",
   "metadata": {},
   "outputs": [
    {
     "name": "stdout",
     "output_type": "stream",
     "text": [
      "radius = 10\n",
      "area = 3.14*radius**2\n",
      "area of the circle with radius 10 is 314.0 meters square\n"
     ]
    }
   ],
   "source": [
    "#8 Use the string formatting method to display\n",
    "radius = 10\n",
    "area = 3.14*radius**2\n",
    "print(\"radius = {radius}\".format(radius = 10))\n",
    "print(\"area = {pi}*radius**2\".format(pi = 3.14))\n",
    "#using string formatting method(format) to insert numerical values between string\n",
    "answer = \"area of the circle with radius {0} is {1} meters square\".format(radius,area)\n",
    "print(answer)"
   ]
  },
  {
   "cell_type": "code",
   "execution_count": 112,
   "id": "7a9cb9c8",
   "metadata": {},
   "outputs": [
    {
     "name": "stdout",
     "output_type": "stream",
     "text": [
      "4\n",
      " Enter weight in lbs: 150\n",
      " Enter weight in lbs: 155\n",
      " Enter weight in lbs: 148\n",
      " Enter weight in lbs: 145\n",
      "weight in kg's = [68.0388, 70.30676, 67.131616, 65.77083999999999]\n"
     ]
    }
   ],
   "source": [
    "#9 Write a program, which reads weights (lbs.) of N students into a list and convert these weights to\n",
    "#kilograms in a separate list using Loop. N: No of students (Read input from user)\n",
    "N = int(input())\n",
    "w_in_lbs = []\n",
    "w_in_kgs = []\n",
    "lb = 0.453592\n",
    "for i in range(N):\n",
    "    w = int(input(\" Enter weight in lbs: \")) \n",
    "    w_in_lbs.append(w) #adding input weights to list \n",
    "for i in w_in_lbs:\n",
    "    w = i*lb\n",
    "    w_in_kgs.append(w)\n",
    "print(\"weight in kg's =\",w_in_kgs)\n"
   ]
  },
  {
   "cell_type": "code",
   "execution_count": null,
   "id": "a4ccf04c",
   "metadata": {},
   "outputs": [],
   "source": []
  }
 ],
 "metadata": {
  "kernelspec": {
   "display_name": "Python 3 (ipykernel)",
   "language": "python",
   "name": "python3"
  },
  "language_info": {
   "codemirror_mode": {
    "name": "ipython",
    "version": 3
   },
   "file_extension": ".py",
   "mimetype": "text/x-python",
   "name": "python",
   "nbconvert_exporter": "python",
   "pygments_lexer": "ipython3",
   "version": "3.9.13"
  }
 },
 "nbformat": 4,
 "nbformat_minor": 5
}
